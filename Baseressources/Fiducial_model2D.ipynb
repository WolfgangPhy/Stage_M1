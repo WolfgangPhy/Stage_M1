{
 "cells": [
  {
   "cell_type": "code",
   "execution_count": 1,
   "metadata": {},
   "outputs": [],
   "source": [
    "import sys\n",
    "import pickle\n",
    "import os.path\n",
    "import numpy as np\n",
    "import matplotlib.pyplot as plt\n",
    "import torch\n",
    "import torch.nn as nn\n",
    "import torch.nn.functional as F\n",
    "import torch.optim as optim\n",
    "from torch.utils.data import Dataset, DataLoader, random_split\n",
    "#import math\n",
    "#from scipy.spatial.transform import Rotation as R\n",
    "import ext_model\n"
   ]
  },
  {
   "cell_type": "code",
   "execution_count": 2,
   "metadata": {},
   "outputs": [
    {
     "name": "stdout",
     "output_type": "stream",
     "text": [
      "Using existing model\n"
     ]
    }
   ],
   "source": [
    "fmodel=\"ext_model2D.pickle\"\n",
    "if os.path.isfile(fmodel):\n",
    "    print(\"Using existing model\")\n",
    "    newmodel = 0\n",
    "else:\n",
    "    newmodel = 1 #set to zero\n",
    "    print(\"Creating new model\")\n",
    "    "
   ]
  },
  {
   "cell_type": "code",
   "execution_count": 3,
   "metadata": {},
   "outputs": [],
   "source": [
    "# Create new model\n",
    "if newmodel==1:    \n",
    "    model = ext_model.extmy_model(100)\n",
    "    #print(model.rho,model.a1)\n",
    "    with open(fmodel,\"wb\") as file:\n",
    "        pickle.dump(model,file)\n",
    "        file.close()"
   ]
  },
  {
   "cell_type": "code",
   "execution_count": 4,
   "metadata": {},
   "outputs": [],
   "source": [
    "### CLASS TO STORE A GIVEN MODEL\n",
    "class extmy_model:\n",
    "    def __init__(self,N):\n",
    "        self.rho = np.random.rand(N)*0.1 # core density\n",
    "        self.x0 = np.random.rand(N)*8.-4. # cartesian location of cloud [-4,4] kpc\n",
    "        self.y0 = np.random.rand(N)*8.-4. # cartesian location of cloud [-4,4] kpc\n",
    "        self.z0 = np.random.rand(N)-0.5   # cartesian location od cloud [-0.5,0.5] kpc\n",
    "        self.s1 = 0.05+np.random.rand(N)*0.05 # size along axis kpc\n",
    "        self.s2 = 0.05+np.random.rand(N)*0.05\n",
    "        self.s3 = 0.05+np.random.rand(N)*0.05\n",
    "        self.a1 = np.random.rand(N)*60.-30. # orientation [-30,30] deg\n",
    "        self.a2 = np.random.rand(N)*90.-45. # orientation [-45,45] deg\n",
    "\n",
    "    def __len__(self):\n",
    "        'Denotes the total number of samples'\n",
    "        return len(self.rho)\n"
   ]
  },
  {
   "cell_type": "code",
   "execution_count": 5,
   "metadata": {},
   "outputs": [],
   "source": [
    "# Load model\n",
    "with open(fmodel,\"rb\") as file:\n",
    "    model = pickle.load(file)\n",
    "    file.close()"
   ]
  },
  {
   "cell_type": "code",
   "execution_count": 6,
   "metadata": {},
   "outputs": [],
   "source": [
    "X,Y = np.mgrid[-5:5.1:0.1, -5:5.1:0.1]\n",
    "dens = X*0.\n",
    "\n",
    "for i in range(len(X[:,1])):\n",
    "    for j in range(len(X[1,:])):\n",
    "        dens[i,j] = ext_model.ext_model(X[i,j],Y[i,j],0.,model)\n",
    "\n"
   ]
  },
  {
   "cell_type": "code",
   "execution_count": 7,
   "metadata": {
    "scrolled": true
   },
   "outputs": [
    {
     "data": {
      "image/png": "[encoded data removed]",
      "text/plain": [
       "<Figure size 432x288 with 1 Axes>"
      ]
     },
     "metadata": {
      "needs_background": "light"
     },
     "output_type": "display_data"
    }
   ],
   "source": [
    "plt.pcolormesh(X, Y, dens, shading='auto', cmap=plt.cm.gist_yarg)\n",
    "plt.show()\n",
    "\n"
   ]
  },
  {
   "cell_type": "code",
   "execution_count": 8,
   "metadata": {},
   "outputs": [
    {
     "name": "stdout",
     "output_type": "stream",
     "text": [
      "cpu\n"
     ]
    }
   ],
   "source": [
    "dtype = torch.float\n",
    "#device = torch.device('cuda:0') if torch.cuda.is_available() else torch.device('cpu')\n",
    "device = torch.device(\"cpu\") # Uncomment this to run on CPU\n",
    "print(device)"
   ]
  },
  {
   "cell_type": "code",
   "execution_count": 16,
   "metadata": {},
   "outputs": [
    {
     "name": "stdout",
     "output_type": "stream",
     "text": [
      "Number of processors:  20\n"
     ]
    }
   ],
   "source": [
    "import multiprocessing as mp\n",
    "print(\"Number of processors: \", mp.cpu_count())\n",
    "\n",
    "results=[]\n",
    "pool = mp.Pool(mp.cpu_count())\n",
    "\n",
    "# call back function for asynchroneous parallel processing\n",
    "def collect_result(result):\n",
    "    global results\n",
    "    results.append(result)\n",
    "\n",
    "    "
   ]
  },
  {
   "cell_type": "code",
   "execution_count": 17,
   "metadata": {},
   "outputs": [
    {
     "name": "stdout",
     "output_type": "stream",
     "text": [
      "Start processing\n",
      "Sorting results\n",
      "Adding errors\n"
     ]
    }
   ],
   "source": [
    "# define a training sample of n points -> using 3D model to construct 2D model\n",
    "n=20000\n",
    "ell = torch.rand(n,device=device)*360.\n",
    "b = torch.zeros(n,device=device,dtype=dtype)\n",
    "dist = torch.rand(n,device=device)*5.5\n",
    "\n",
    "K = torch.zeros(n,device=device,dtype=dtype)\n",
    "error = torch.zeros(n,device=device,dtype=dtype)\n",
    "\n",
    "\n",
    "print(\"Start processing\")\n",
    "# use loop for parallel processing  \n",
    "for i in range(n):\n",
    "    pool.apply_async(ext_model.integ_d_async, args=(i,ext_model.ext_model,ell[i].data,b[i].data,dist[i].data,model),callback=collect_result)\n",
    "\n",
    "# close pool\n",
    "pool.close()\n",
    "pool.join() # wait for all processes to be completed \n",
    "\n",
    "# sort the result\n",
    "print(\"Sorting results\")\n",
    "results.sort(key=lambda x: x[0])\n",
    "K = [r for i,r in results]\n",
    "\n",
    "print(\"Adding errors\")\n",
    "for i in range(n):\n",
    "    error[i] = K[i].item()*np.random.uniform(low=0.01,high=0.1)\n",
    "    K[i] = K[i].item()+np.random.normal(scale=error[i].item())\n",
    "\n"
   ]
  },
  {
   "cell_type": "code",
   "execution_count": 18,
   "metadata": {},
   "outputs": [],
   "source": [
    "# Class to store the date to be used with minibatch\n",
    "class MyDataset2D(Dataset):\n",
    "    'Characterizes a dataset for PyTorch'\n",
    "    def __init__(self, ell, dist, K, error):\n",
    "        'Initialization'\n",
    "        #self.list_IDs  = np.arange(len(ell))\n",
    "        self.ell = ell\n",
    "        self.cosell = np.cos(self.ell*np.pi/180.)\n",
    "        self.sinell = np.sin(self.ell*np.pi/180.)\n",
    "        self.dist = dist # distance in kpc\n",
    "        self.K = K # total Absorption\n",
    "        self.error = error # error on absorption\n",
    "\n",
    "    def __len__(self):\n",
    "        'Denotes the total number of samples'\n",
    "        return len(self.ell)\n",
    "\n",
    "    def __getitem__(self, index): ### Not sure this is how I should do it\n",
    "        'Generates one sample of data'\n",
    "        return torch.tensor((self.cosell[index],self.sinell[index],self.dist[index])), torch.tensor((self.K[index],self.error[index]))\n",
    "\n"
   ]
  },
  {
   "cell_type": "code",
   "execution_count": 19,
   "metadata": {},
   "outputs": [],
   "source": [
    "# prepares the dataset used for training\n",
    "dataset = MyDataset2D(ell, dist, K, error)\n",
    "torch.save(dataset,\"fiducial_model2D.pt\")\n"
   ]
  },
  {
   "cell_type": "code",
   "execution_count": null,
   "metadata": {},
   "outputs": [],
   "source": []
  }
 ],
 "metadata": {
  "kernelspec": {
   "display_name": "Python 3",
   "language": "python",
   "name": "python3"
  },
  "language_info": {
   "codemirror_mode": {
    "name": "ipython",
    "version": 3
   },
   "file_extension": ".py",
   "mimetype": "text/x-python",
   "name": "python",
   "nbconvert_exporter": "python",
   "pygments_lexer": "ipython3",
   "version": "3.6.15"
  }
 },
 "nbformat": 4,
 "nbformat_minor": 4
}
